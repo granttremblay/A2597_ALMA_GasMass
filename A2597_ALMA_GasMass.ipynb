{
 "cells": [
  {
   "cell_type": "markdown",
   "metadata": {},
   "source": [
    "### Double check the A2597 H$_2$ Mass given in Tremblay+16\n",
    "\n",
    "The mass reported in Tremblay+16 relied on a measurement made by Philippe Salome in Paris, using GILDAS. I had double-checked it in CASA, finding a very similar result, and so we went with it. But Helen is now getting an emission integral that is a factor of ~2 larger, so let's triple check. "
   ]
  },
  {
   "cell_type": "code",
   "execution_count": 1,
   "metadata": {
    "collapsed": true
   },
   "outputs": [],
   "source": [
    "import sys\n",
    "import os\n",
    "import glob\n",
    "\n",
    "import numpy as np\n",
    "\n",
    "from astropy.io import ascii\n",
    "from astropy.table import QTable\n",
    "\n",
    "from astropy.cosmology import FlatLambdaCDM\n",
    "\n",
    "import astropy.units as u\n",
    "\n",
    "import pyspeckit\n",
    "\n",
    "import matplotlib as mpl\n",
    "import matplotlib.pyplot as plt\n",
    "import matplotlib.style as style\n",
    "%matplotlib inline"
   ]
  },
  {
   "cell_type": "markdown",
   "metadata": {},
   "source": [
    "Make some units and cosmology"
   ]
  },
  {
   "cell_type": "code",
   "execution_count": 13,
   "metadata": {
    "collapsed": true
   },
   "outputs": [],
   "source": [
    "emission_integral_units_mJy = u.mJy * u.km / u.s\n",
    "emission_integral_units_Jy = u.Jy * u.km / u.s\n",
    "\n",
    "xco_unit = u.cm**(-2) * (u.K * u.km * u.s**(-1))**(-1)\n",
    "\n",
    "cosmo = FlatLambdaCDM(H0=70, Om0=0.3)"
   ]
  },
  {
   "cell_type": "code",
   "execution_count": 3,
   "metadata": {
    "collapsed": true
   },
   "outputs": [],
   "source": [
    "plt.rcParams.update({'font.size'     : 16,\n",
    "                    'axes.labelsize' : 16,\n",
    "                    'legend.fontsize': 16,\n",
    "                    'xtick.labelsize': 18,\n",
    "                    'ytick.labelsize': 18,\n",
    "                    'axes.linewidth' :  2  })\n",
    "#style.use('ggplot')"
   ]
  },
  {
   "cell_type": "markdown",
   "metadata": {},
   "source": [
    "### Read in the spectrum extracted using CASA\n",
    "\n",
    "I extracted spectra using `casaviewer v4.6`, and saved them as simple ASCII files. The extracted spectra and their associated extraction regions are shown here:  "
   ]
  },
  {
   "cell_type": "code",
   "execution_count": 4,
   "metadata": {
    "collapsed": true
   },
   "outputs": [],
   "source": [
    "def makeSpectrum(file):\n",
    "    \n",
    "    # Read the raw ASCII spectrum into an Astropy TABLE object\n",
    "    rawdata = ascii.read(file)\n",
    "    \n",
    "    # Give the columns meaningful names\n",
    "    if 'col1' in rawdata.columns:\n",
    "        rawdata.rename_column('col1','Velocity')\n",
    "    if 'col2' in rawdata.columns:\n",
    "        rawdata.rename_column('col2', 'FluxDensity')\n",
    "        \n",
    "    # Give the new columns proper units. \n",
    "    # We'll have to strip them later, because PySpecKit doesn't \n",
    "    # like \"quantity\" objects, but it's useful to have the functionality\n",
    "    # anyway\n",
    "    Velocity = rawdata['Velocity'] * (u.km / u.s)\n",
    "    FluxDensityJy = rawdata['FluxDensity'] * u.Jy\n",
    "\n",
    "    # Put the flux into mJy \n",
    "    FluxDensity = FluxDensityJy.to(u.mJy)\n",
    "    \n",
    "    # Manually write the errors. The RMS of the 10 km/s cube\n",
    "    # is 0.30 mJy / 10 km/s channel. This is the error on the flux.\n",
    "    # The velocity channel width is +/- 5 km/s, e.g. 10 km/s width. \n",
    "    VelErr = ((np.zeros(len(Velocity))) + 5.0) * (u.km / u.s)\n",
    "    FluxErr = ((np.zeros(len(FluxDensity))) + 0.30) * u.mJy\n",
    "    \n",
    "    # Construct the main Astropy TABLE with Units\n",
    "    spectrum = QTable([Velocity, FluxDensity, VelErr, FluxErr], names=(\"Velocity\", \"Flux Density\", \"Velocity Error\", \"Flux Error\"))\n",
    "    \n",
    "    # Also constuct unit-free versions for passing to PySpecKit\n",
    "    \n",
    "    #flux = FluxDensity.value\n",
    "    #vel = Velocity.value\n",
    "    \n",
    "    #rms = FluxErr.value\n",
    "    #width = VelErr.value\n",
    "    \n",
    "    return spectrum"
   ]
  },
  {
   "cell_type": "code",
   "execution_count": 5,
   "metadata": {
    "collapsed": true
   },
   "outputs": [],
   "source": [
    "ascii_spectrum = 'data/entire_nebula_pbcorr.txt'"
   ]
  },
  {
   "cell_type": "code",
   "execution_count": 6,
   "metadata": {
    "collapsed": true
   },
   "outputs": [],
   "source": [
    "spectrum = makeSpectrum(ascii_spectrum)"
   ]
  },
  {
   "cell_type": "markdown",
   "metadata": {},
   "source": [
    "This resturns an Astropy QTable, accessed like this: "
   ]
  },
  {
   "cell_type": "code",
   "execution_count": 7,
   "metadata": {},
   "outputs": [
    {
     "data": {
      "text/latex": [
       "$[-500,~-490,~-480,~\\dots, 480,~490,~500] \\; \\mathrm{\\frac{km}{s}}$"
      ],
      "text/plain": [
       "<Quantity [ -5.00000000e+02, -4.90000000e+02, -4.80000000e+02,\n",
       "            -4.70000000e+02, -4.60000000e+02, -4.50000000e+02,\n",
       "            -4.40000000e+02, -4.30000000e+02, -4.20000000e+02,\n",
       "            -4.10000000e+02, -4.00000000e+02, -3.90000000e+02,\n",
       "            -3.80000000e+02, -3.70000000e+02, -3.60000000e+02,\n",
       "            -3.50000000e+02, -3.40000000e+02, -3.30000000e+02,\n",
       "            -3.20000000e+02, -3.10000000e+02, -3.00000000e+02,\n",
       "            -2.90000000e+02, -2.80000000e+02, -2.70000000e+02,\n",
       "            -2.60000000e+02, -2.50000000e+02, -2.40000000e+02,\n",
       "            -2.30000000e+02, -2.20000000e+02, -2.10000000e+02,\n",
       "            -2.00000000e+02, -1.90000000e+02, -1.80000000e+02,\n",
       "            -1.70000000e+02, -1.60000000e+02, -1.50000000e+02,\n",
       "            -1.40000000e+02, -1.30000000e+02, -1.20000000e+02,\n",
       "            -1.10000000e+02, -1.00000000e+02, -9.00000000e+01,\n",
       "            -8.00000000e+01, -7.00000000e+01, -6.00000000e+01,\n",
       "            -5.00000000e+01, -4.00000000e+01, -3.00000000e+01,\n",
       "            -2.00000000e+01, -1.00000000e+01, -3.18857360e-07,\n",
       "             1.00000000e+01,  2.00000000e+01,  3.00000000e+01,\n",
       "             4.00000000e+01,  5.00000000e+01,  6.00000000e+01,\n",
       "             7.00000000e+01,  8.00000000e+01,  9.00000000e+01,\n",
       "             1.00000000e+02,  1.10000000e+02,  1.20000000e+02,\n",
       "             1.30000000e+02,  1.40000000e+02,  1.50000000e+02,\n",
       "             1.60000000e+02,  1.70000000e+02,  1.80000000e+02,\n",
       "             1.90000000e+02,  2.00000000e+02,  2.10000000e+02,\n",
       "             2.20000000e+02,  2.30000000e+02,  2.40000000e+02,\n",
       "             2.50000000e+02,  2.60000000e+02,  2.70000000e+02,\n",
       "             2.80000000e+02,  2.90000000e+02,  3.00000000e+02,\n",
       "             3.10000000e+02,  3.20000000e+02,  3.30000000e+02,\n",
       "             3.40000000e+02,  3.50000000e+02,  3.60000000e+02,\n",
       "             3.70000000e+02,  3.80000000e+02,  3.90000000e+02,\n",
       "             4.00000000e+02,  4.10000000e+02,  4.20000000e+02,\n",
       "             4.30000000e+02,  4.40000000e+02,  4.50000000e+02,\n",
       "             4.60000000e+02,  4.70000000e+02,  4.80000000e+02,\n",
       "             4.90000000e+02,  5.00000000e+02] km / s>"
      ]
     },
     "execution_count": 7,
     "metadata": {},
     "output_type": "execute_result"
    }
   ],
   "source": [
    "spectrum['Velocity']"
   ]
  },
  {
   "cell_type": "markdown",
   "metadata": {},
   "source": [
    "__Warning__: PySpecKit won't like Astropy units, so make sure to feed it unitless arrays, like this: \n",
    "```\n",
    "spectrum['Velocity'].value\n",
    "```"
   ]
  },
  {
   "cell_type": "code",
   "execution_count": 8,
   "metadata": {
    "collapsed": true
   },
   "outputs": [],
   "source": [
    "flux = spectrum['Flux Density'].value\n",
    "error = spectrum['Flux Error'].value\n",
    "velocity = spectrum['Velocity'].value\n",
    "vel_error = spectrum['Velocity Error'].value"
   ]
  },
  {
   "cell_type": "markdown",
   "metadata": {},
   "source": [
    "Now, instantiate a PySpecKit 'Spectrum' object. "
   ]
  },
  {
   "cell_type": "code",
   "execution_count": 9,
   "metadata": {},
   "outputs": [
    {
     "name": "stderr",
     "output_type": "stream",
     "text": [
      "WARNING: No header given.  Creating an empty one.\n"
     ]
    }
   ],
   "source": [
    "sp = pyspeckit.Spectrum(data=flux,\n",
    "                        error=error,\n",
    "                        xarr=velocity,\n",
    "                        xarrkwargs={'unit':'km/s'},\n",
    "                        unit='mJy')"
   ]
  },
  {
   "cell_type": "markdown",
   "metadata": {},
   "source": [
    "The blank header warning is fine. "
   ]
  },
  {
   "cell_type": "code",
   "execution_count": 10,
   "metadata": {},
   "outputs": [
    {
     "name": "stdout",
     "output_type": "stream",
     "text": [
      "INFO: Left region selection unchanged.  xminpix, xmaxpix: 0,101 [pyspeckit.spectrum.interactive]\n",
      "INFO: Left region selection unchanged.  xminpix, xmaxpix: 0,101 [pyspeckit.spectrum.interactive]\n"
     ]
    },
    {
     "data": {
      "image/png": "[encoded data removed]",
      "text/plain": [
       "<matplotlib.figure.Figure at 0x7f5dd938d470>"
      ]
     },
     "metadata": {},
     "output_type": "display_data"
    }
   ],
   "source": [
    "sp.specfit(fittype='gaussian')\n",
    "\n",
    "amplitude_guess = flux.max()\n",
    "center_guess = 0\n",
    "width_guess = 250\n",
    "\n",
    "guesses = [amplitude_guess, center_guess, width_guess]\n",
    "sp.specfit(fittype='gaussian', guesses=guesses)\n",
    "\n",
    "sp.plotter(errstyle='fill')\n",
    "sp.specfit.plot_fit(lw=2)\n",
    "sp.specfit.plotresiduals(axis=sp.plotter.axis,clear=False,yoffset=0.0,label=False, color='blue')\n"
   ]
  },
  {
   "cell_type": "markdown",
   "metadata": {},
   "source": [
    "The analytic integral of the Gaussian fit is: "
   ]
  },
  {
   "cell_type": "code",
   "execution_count": 11,
   "metadata": {},
   "outputs": [
    {
     "data": {
      "text/plain": [
       "5282.8676723253766"
      ]
     },
     "execution_count": 11,
     "metadata": {},
     "output_type": "execute_result"
    }
   ],
   "source": [
    "integral = sp.specfit.integral(analytic=True)\n",
    "integral"
   ]
  },
  {
   "cell_type": "markdown",
   "metadata": {},
   "source": [
    "e.g., $S_{CO} \\Delta V = 5.28$ Jy km s$^{-1}$"
   ]
  },
  {
   "cell_type": "code",
   "execution_count": 12,
   "metadata": {
    "collapsed": true
   },
   "outputs": [],
   "source": [
    "\"\"\" \n",
    "Simpler version of `PSF_GAUSSIAN` in IDL. \n",
    ":Authors: Pey Lian Lim (Python) \n",
    ":Organization: Space Telescope Science Institute \n",
    ":History: \n",
    "    * 2010/08/17 PLL converted from IDL to Python. \n",
    "\"\"\"\n",
    "\n",
    "# External modules \n",
    "import numpy \n",
    "#----------- \n",
    "\n",
    "def GaussPsf2D(npix, fwhm, normalize=True): \n",
    "    \"\"\" \n",
    "    Parameters \n",
    "    ---------- \n",
    "    npix: int \n",
    "        Number of pixels for each dimension. \n",
    "        Just one number to make all sizes equal. \n",
    "    fwhm: float \n",
    "        FWHM (pixels) in each dimension. \n",
    "        Single number to make all the same. \n",
    "    normalize: bool, optional \n",
    "        Normalized so total PSF is 1. \n",
    "    Returns \n",
    "    ------- \n",
    "    psf: array_like \n",
    "        Gaussian point spread function. \n",
    "    \"\"\" \n",
    "    # Initialize PSF params \n",
    "    cntrd = (npix - 1.0) * 0.5 \n",
    "    st_dev = 0.5 * fwhm / numpy.sqrt( 2.0 * numpy.log(2) ) \n",
    "    # Make PSF \n",
    "    i = range(npix) \n",
    "    psf = numpy.array( [numpy.exp(-(((cntrd-x)/st_dev)**2+((cntrd-y)/st_dev)**2)/2) for x in i for y in i] ) \n",
    "    psf = psf.reshape(npix, npix) \n",
    "    # Normalize \n",
    "    if normalize: psf /= psf.sum() \n",
    "    return psf "
   ]
  },
  {
   "cell_type": "code",
   "execution_count": null,
   "metadata": {
    "collapsed": true
   },
   "outputs": [],
   "source": []
  }
 ],
 "metadata": {
  "kernelspec": {
   "display_name": "Python 3",
   "language": "python",
   "name": "python3"
  },
  "language_info": {
   "codemirror_mode": {
    "name": "ipython",
    "version": 3
   },
   "file_extension": ".py",
   "mimetype": "text/x-python",
   "name": "python",
   "nbconvert_exporter": "python",
   "pygments_lexer": "ipython3",
   "version": "3.6.3"
  }
 },
 "nbformat": 4,
 "nbformat_minor": 2
}
